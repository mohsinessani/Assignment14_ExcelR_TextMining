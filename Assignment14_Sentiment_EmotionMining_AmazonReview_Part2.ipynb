{
 "cells": [
  {
   "cell_type": "code",
   "execution_count": 1,
   "id": "28641484",
   "metadata": {},
   "outputs": [],
   "source": [
    "#Assignment 14\n",
    "#Mohsin Essani\n",
    "#Part 2\n"
   ]
  },
  {
   "cell_type": "code",
   "execution_count": 2,
   "id": "35536c32",
   "metadata": {},
   "outputs": [],
   "source": [
    "import requests  #This statement imports the requests library, which allows us to send HTTP requests and get the response\n",
    "\n",
    "from bs4 import BeautifulSoup #This statement imports the BeautifulSoup library, which is a Python library used for web scraping purposes to pull data out of HTML and XML files.\n",
    "\n",
    "from textblob import TextBlob  #This statement imports the TextBlob library, which is a Python library used for processing textual data.\n",
    "\n",
    "\n",
    "import pandas as pd  #This statement imports the Pandas library\n",
    "\n",
    "url = 'https://www.amazon.in/Lifelong-LLMG759-Titanium-750-Watt-Liquidizing/product-reviews/B09JNXHGQL/ref=cm_cr_dp_d_show_all_btm?ie=UTF8&reviewerType=all_reviews'\n",
    "headers = {'User-Agent': 'Mozilla/5.0 (Windows NT 10.0; Win64; x64) AppleWebKit/537.36 (KHTML, like Gecko) Chrome/58.0.3029.110 Safari/537.36'}\n",
    "response = requests.get(url, headers=headers)\n",
    "\n",
    "\n",
    "#URL:This line defines the URL of the Amazon product page from which we want to scrape the reviews.\n",
    "\n",
    "#Headers: This line sets the User-Agent header to mimic the behavior of a web browser while making a request to Amazon. \n",
    "#This helps to avoid being blocked by the server.\n",
    "\n",
    "#Response: This line sends a GET request to the Amazon URL with the headers specified in the previous line and \n",
    "#stores the response in the variable 'response'.\n",
    "\n",
    "#Soup: This line creates a BeautifulSoup object by passing the response content and the parser type as arguments.\n",
    "\n",
    "#Reviews: This line finds all the div elements with the attribute data-hook equal to 'review' and stores \n",
    "#them in the variable 'reviews'. These div elements contain the review data we want to scrape from the page.\n",
    "\n",
    "\n",
    "soup = BeautifulSoup(response.content, 'html.parser')\n",
    "reviews = soup.find_all('div', {'data-hook': 'review'})\n",
    "\n",
    "\n",
    "\n"
   ]
  },
  {
   "cell_type": "markdown",
   "id": "2bfd4909",
   "metadata": {},
   "source": [
    "#The below code is processing the review data scraped from the Amazon product page, which is in the form of a list of BeautifulSoup objects called reviews."
   ]
  },
  {
   "cell_type": "code",
   "execution_count": 3,
   "id": "785b67f1",
   "metadata": {},
   "outputs": [],
   "source": [
    "reviews_list = []\n",
    "\n",
    "for item in reviews:\n",
    "    review = {\n",
    "        'review_text': item.find('span', {'data-hook': 'review-body'}).text,\n",
    "        'review_rating': float(item.find('i', {'data-hook': 'review-star-rating'}).text.replace('out of 5 stars', '')),\n",
    "    }\n",
    "    reviews_list.append(review)\n",
    "\n",
    "df = pd.DataFrame(reviews_list)\n",
    "\n",
    "\n"
   ]
  },
  {
   "cell_type": "markdown",
   "id": "e06ce4d4",
   "metadata": {},
   "source": [
    "The below code applies sentiment analysis to the reviews in the Pandas DataFrame df.\n",
    "\n",
    "It defines a function get_review_sentiment that takes a text as input and returns the sentiment of the text as either 'Positive', 'Neutral', or 'Negative'.\n",
    "\n",
    "It then applies the get_review_sentiment function to the review_text column of the df DataFrame using the apply() method.\n",
    "\n",
    "The resulting sentiment of each review is then stored in a new column called review_sentiment in the df DataFrame.\n",
    "\n",
    "The review_sentiment column can be used for further analysis of the reviews, such as calculating the proportion of positive, negative, and neutral reviews, or for visualizing the sentiment distribution of the reviews.\n",
    "\n",
    "\n",
    "\n"
   ]
  },
  {
   "cell_type": "code",
   "execution_count": 4,
   "id": "8fc2f5de",
   "metadata": {},
   "outputs": [],
   "source": [
    "\n",
    "def get_review_sentiment(text):\n",
    "    analysis = TextBlob(text)\n",
    "    if analysis.sentiment.polarity > 0:\n",
    "        return 'Positive'\n",
    "    elif analysis.sentiment.polarity == 0:\n",
    "        return 'Neutral'\n",
    "    else:\n",
    "        return 'Negative'\n",
    "\n",
    "df['review_sentiment'] = df['review_text'].apply(get_review_sentiment)\n",
    "\n"
   ]
  },
  {
   "cell_type": "markdown",
   "id": "917de78e",
   "metadata": {},
   "source": [
    "The below code defines a function get_decision_maker that takes a rating and sentiment as input and returns a decision regarding the product based on the rating and sentiment."
   ]
  },
  {
   "cell_type": "code",
   "execution_count": 5,
   "id": "cc9f05ab",
   "metadata": {},
   "outputs": [],
   "source": [
    "def get_decision_maker(rating, sentiment):\n",
    "    if rating <= 2:\n",
    "        return 'Rebuild the product design'\n",
    "    elif rating == 3:\n",
    "        return 'Lower down the price'\n",
    "    elif rating == 4:\n",
    "        return 'Product is awesome'\n",
    "    else:\n",
    "        return 'Loved by everyone'\n",
    "\n",
    "df['decision_maker'] = df.apply(lambda x: get_decision_maker(x['review_rating'], x['review_sentiment']), axis=1)\n",
    "\n"
   ]
  },
  {
   "cell_type": "markdown",
   "id": "1b0df28b",
   "metadata": {},
   "source": [
    "The positive_reviews and negative_reviews DataFrames can be used to analyze the positive and negative aspects of the product and to identify the strengths and weaknesses of the product, respectively."
   ]
  },
  {
   "cell_type": "code",
   "execution_count": 6,
   "id": "27584f56",
   "metadata": {},
   "outputs": [
    {
     "name": "stdout",
     "output_type": "stream",
     "text": [
      "Positive Reviews:\n",
      "                                         review_text  review_rating  \\\n",
      "0  \\nSince the day we bought it in April 22, the ...            3.0   \n",
      "1  \\nRecieved the product in good package, better...            4.0   \n",
      "3  \\nTeam, kindly improve the look of body qualit...            4.0   \n",
      "5  \\nIt’s a good looking product, sturdy and a gr...            4.0   \n",
      "8  \\nI only used this mixie.. for one time... And...            1.0   \n",
      "\n",
      "  review_sentiment              decision_maker  \n",
      "0         Positive        Lower down the price  \n",
      "1         Positive          Product is awesome  \n",
      "3         Positive          Product is awesome  \n",
      "5         Positive          Product is awesome  \n",
      "8         Positive  Rebuild the product design  \n",
      "\n",
      "Negative Reviews:\n",
      "                                         review_text  review_rating  \\\n",
      "9  \\nThe product stopped working twice in 7 month...            1.0   \n",
      "\n",
      "  review_sentiment              decision_maker  \n",
      "9         Negative  Rebuild the product design  \n"
     ]
    }
   ],
   "source": [
    "positive_reviews = df[df['review_sentiment'] == 'Positive']\n",
    "negative_reviews = df[df['review_sentiment'] == 'Negative']\n",
    "\n",
    "print('Positive Reviews:')\n",
    "print(positive_reviews)\n",
    "print('\\nNegative Reviews:')\n",
    "print(negative_reviews)"
   ]
  },
  {
   "cell_type": "code",
   "execution_count": 7,
   "id": "02734b0d",
   "metadata": {},
   "outputs": [
    {
     "data": {
      "text/html": [
       "<div>\n",
       "<style scoped>\n",
       "    .dataframe tbody tr th:only-of-type {\n",
       "        vertical-align: middle;\n",
       "    }\n",
       "\n",
       "    .dataframe tbody tr th {\n",
       "        vertical-align: top;\n",
       "    }\n",
       "\n",
       "    .dataframe thead th {\n",
       "        text-align: right;\n",
       "    }\n",
       "</style>\n",
       "<table border=\"1\" class=\"dataframe\">\n",
       "  <thead>\n",
       "    <tr style=\"text-align: right;\">\n",
       "      <th></th>\n",
       "      <th>review_text</th>\n",
       "      <th>review_rating</th>\n",
       "      <th>review_sentiment</th>\n",
       "      <th>decision_maker</th>\n",
       "    </tr>\n",
       "  </thead>\n",
       "  <tbody>\n",
       "    <tr>\n",
       "      <th>5</th>\n",
       "      <td>\\nIt’s a good looking product, sturdy and a gr...</td>\n",
       "      <td>4.0</td>\n",
       "      <td>Positive</td>\n",
       "      <td>Product is awesome</td>\n",
       "    </tr>\n",
       "    <tr>\n",
       "      <th>6</th>\n",
       "      <td>\\nAffordable price with...best quality products\\n</td>\n",
       "      <td>5.0</td>\n",
       "      <td>Neutral</td>\n",
       "      <td>Loved by everyone</td>\n",
       "    </tr>\n",
       "    <tr>\n",
       "      <th>7</th>\n",
       "      <td>\\n1) জে্ক ভাঙা ,ছিল।২) আমার রিটার্ন সামগ্রী এক...</td>\n",
       "      <td>1.0</td>\n",
       "      <td>Neutral</td>\n",
       "      <td>Rebuild the product design</td>\n",
       "    </tr>\n",
       "    <tr>\n",
       "      <th>8</th>\n",
       "      <td>\\nI only used this mixie.. for one time... And...</td>\n",
       "      <td>1.0</td>\n",
       "      <td>Positive</td>\n",
       "      <td>Rebuild the product design</td>\n",
       "    </tr>\n",
       "    <tr>\n",
       "      <th>9</th>\n",
       "      <td>\\nThe product stopped working twice in 7 month...</td>\n",
       "      <td>1.0</td>\n",
       "      <td>Negative</td>\n",
       "      <td>Rebuild the product design</td>\n",
       "    </tr>\n",
       "  </tbody>\n",
       "</table>\n",
       "</div>"
      ],
      "text/plain": [
       "                                         review_text  review_rating  \\\n",
       "5  \\nIt’s a good looking product, sturdy and a gr...            4.0   \n",
       "6  \\nAffordable price with...best quality products\\n            5.0   \n",
       "7  \\n1) জে্ক ভাঙা ,ছিল।২) আমার রিটার্ন সামগ্রী এক...            1.0   \n",
       "8  \\nI only used this mixie.. for one time... And...            1.0   \n",
       "9  \\nThe product stopped working twice in 7 month...            1.0   \n",
       "\n",
       "  review_sentiment              decision_maker  \n",
       "5         Positive          Product is awesome  \n",
       "6          Neutral           Loved by everyone  \n",
       "7          Neutral  Rebuild the product design  \n",
       "8         Positive  Rebuild the product design  \n",
       "9         Negative  Rebuild the product design  "
      ]
     },
     "execution_count": 7,
     "metadata": {},
     "output_type": "execute_result"
    }
   ],
   "source": [
    "df.tail()"
   ]
  },
  {
   "cell_type": "code",
   "execution_count": 8,
   "id": "e46f95c0",
   "metadata": {},
   "outputs": [],
   "source": [
    "#Visualizing and giving an insight on review. \n",
    "#This is done to observe the reviews and to work more efficiently on weaker section. "
   ]
  },
  {
   "cell_type": "code",
   "execution_count": 9,
   "id": "7d0528ec",
   "metadata": {},
   "outputs": [
    {
     "data": {
      "image/png": "[encoded data removed]",
      "text/plain": [
       "<Figure size 640x480 with 1 Axes>"
      ]
     },
     "metadata": {},
     "output_type": "display_data"
    }
   ],
   "source": [
    "import matplotlib.pyplot as plt\n",
    "\n",
    "sentiment_count = df['review_sentiment'].value_counts()\n",
    "plt.pie(sentiment_count.values, labels=sentiment_count.index, autopct='%1.1f%%')\n",
    "plt.title('Sentiment Distribution of Reviews')\n",
    "plt.show()\n",
    "\n"
   ]
  },
  {
   "cell_type": "markdown",
   "id": "5e0fca6a",
   "metadata": {},
   "source": [
    "# As per the visualization of pie chart, 50% is positive reviews while 40% are neutral and 10% are negative. So if Amazon wants to increase the sale more, the company will have to make the product according to their customer demands. Also this reviews are system generated so 10-20% data can be mismatched. So that data should also be considered. "
   ]
  },
  {
   "cell_type": "code",
   "execution_count": null,
   "id": "1e5b9d33",
   "metadata": {},
   "outputs": [],
   "source": []
  },
  {
   "cell_type": "code",
   "execution_count": null,
   "id": "74f2d7e7",
   "metadata": {},
   "outputs": [],
   "source": []
  }
 ],
 "metadata": {
  "kernelspec": {
   "display_name": "Python 3 (ipykernel)",
   "language": "python",
   "name": "python3"
  },
  "language_info": {
   "codemirror_mode": {
    "name": "ipython",
    "version": 3
   },
   "file_extension": ".py",
   "mimetype": "text/x-python",
   "name": "python",
   "nbconvert_exporter": "python",
   "pygments_lexer": "ipython3",
   "version": "3.9.13"
  }
 },
 "nbformat": 4,
 "nbformat_minor": 5
}
